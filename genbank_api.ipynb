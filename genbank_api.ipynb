{
  "cells": [
    {
      "metadata": {
        "trusted": true
      },
      "cell_type": "code",
      "source": "# Install biopython\n! pip install biopython",
      "execution_count": null,
      "outputs": []
    },
    {
      "metadata": {
        "trusted": true
      },
      "cell_type": "code",
      "source": "from Bio import Entrez, SeqIO",
      "execution_count": null,
      "outputs": []
    },
    {
      "metadata": {
        "trusted": true
      },
      "cell_type": "code",
      "source": "Entrez.email = \"fpichardom@yahoo.com\"",
      "execution_count": null,
      "outputs": []
    },
    {
      "metadata": {
        "trusted": true
      },
      "cell_type": "code",
      "source": "# Search param\nORGN =  'Pereskia'\nRETMAX = 300",
      "execution_count": null,
      "outputs": []
    },
    {
      "metadata": {
        "trusted": true
      },
      "cell_type": "code",
      "source": "search_handle = Entrez.esearch(\n    db='nucleotide', # NCBI database\n    term = f'{ORGN}[ORGN]', # Search term as a string\n    idtype = \"acc\", \n    retmax = RETMAX\n)                               ",
      "execution_count": null,
      "outputs": []
    },
    {
      "metadata": {
        "trusted": true
      },
      "cell_type": "code",
      "source": "#search_handle.read()",
      "execution_count": null,
      "outputs": []
    },
    {
      "metadata": {
        "trusted": true
      },
      "cell_type": "code",
      "source": "search_results = Entrez.read(search_handle)",
      "execution_count": null,
      "outputs": []
    },
    {
      "metadata": {
        "trusted": true
      },
      "cell_type": "code",
      "source": "search_results",
      "execution_count": null,
      "outputs": []
    },
    {
      "metadata": {
        "trusted": true
      },
      "cell_type": "code",
      "source": "id_list_str = \",\".join(search_results['IdList'])",
      "execution_count": null,
      "outputs": []
    },
    {
      "metadata": {
        "trusted": true
      },
      "cell_type": "code",
      "source": "fetch_handle = Entrez.efetch(\n    db='nucleotide',\n    id=id_list_str,\n    retmode='xml'\n)",
      "execution_count": null,
      "outputs": []
    },
    {
      "metadata": {
        "trusted": true
      },
      "cell_type": "code",
      "source": "fetch_results = Entrez.read(fetch_handle)",
      "execution_count": null,
      "outputs": []
    },
    {
      "metadata": {
        "trusted": true
      },
      "cell_type": "code",
      "source": "len(fetch_results)",
      "execution_count": null,
      "outputs": []
    },
    {
      "metadata": {
        "trusted": true
      },
      "cell_type": "code",
      "source": "type(fetch_results)",
      "execution_count": null,
      "outputs": []
    },
    {
      "metadata": {
        "trusted": true
      },
      "cell_type": "code",
      "source": "fetch_results[0]",
      "execution_count": null,
      "outputs": []
    },
    {
      "metadata": {
        "trusted": true
      },
      "cell_type": "code",
      "source": "entry = fetch_results[0]",
      "execution_count": null,
      "outputs": []
    },
    {
      "metadata": {
        "trusted": true
      },
      "cell_type": "code",
      "source": "for key, value in entry.items():\n    print(key, type(value))\n    print(\"+==================================+\")",
      "execution_count": null,
      "outputs": []
    },
    {
      "metadata": {
        "trusted": true
      },
      "cell_type": "code",
      "source": "gb_record = {\n    \"accession_id\": entry['GBSeq_accession-version'],\n    \"taxonomy\": {\n        \"taxon_name\": entry['GBSeq_organism']\n    },\n    \"features\": [],\n    \"sequence\": entry['GBSeq_sequence']\n}",
      "execution_count": null,
      "outputs": []
    },
    {
      "metadata": {
        "trusted": true
      },
      "cell_type": "code",
      "source": "features = entry['GBSeq_feature-table']",
      "execution_count": null,
      "outputs": []
    },
    {
      "metadata": {
        "trusted": true
      },
      "cell_type": "code",
      "source": "for feature in features:\n    if feature['GBFeature_key'] != \"source\":\n        feat_entry = {\n            \"feature_key\": feature['GBFeature_key'],\n            \"location\": feature['GBFeature_location'],\n            \"qualifier_name\": feature['GBFeature_quals'][0]['GBQualifier_name'],\n            \"qualifier_value\": feature['GBFeature_quals'][0]['GBQualifier_value']\n    }\n        gb_record['features'].append(feat_entry)",
      "execution_count": null,
      "outputs": []
    },
    {
      "metadata": {
        "trusted": true
      },
      "cell_type": "code",
      "source": "gb_record",
      "execution_count": null,
      "outputs": []
    },
    {
      "metadata": {
        "trusted": true
      },
      "cell_type": "markdown",
      "source": "# Combine All"
    },
    {
      "metadata": {
        "trusted": true
      },
      "cell_type": "code",
      "source": "from Bio import Entrez, SeqIO",
      "execution_count": null,
      "outputs": []
    },
    {
      "metadata": {
        "trusted": true
      },
      "cell_type": "code",
      "source": "Entrez.email = \"fpichardom@yahoo.com\"",
      "execution_count": null,
      "outputs": []
    },
    {
      "metadata": {
        "trusted": true
      },
      "cell_type": "code",
      "source": "# Search param\nORGN =  'Pereskia'\nRETMAX = 300",
      "execution_count": null,
      "outputs": []
    },
    {
      "metadata": {
        "trusted": true
      },
      "cell_type": "code",
      "source": "",
      "execution_count": null,
      "outputs": []
    },
    {
      "metadata": {
        "trusted": true
      },
      "cell_type": "code",
      "source": "search_handle = Entrez.esearch(\n    db='nucleotide', # NCBI database\n    term = f'{ORGN}[ORGN]', # Search term as a string\n    idtype = \"acc\", \n    retmax = RETMAX\n)                               ",
      "execution_count": null,
      "outputs": []
    },
    {
      "metadata": {
        "trusted": true
      },
      "cell_type": "code",
      "source": "search_results = Entrez.read(search_handle)",
      "execution_count": null,
      "outputs": []
    },
    {
      "metadata": {
        "trusted": true
      },
      "cell_type": "code",
      "source": "id_list_str = \",\".join(search_results['IdList'])",
      "execution_count": null,
      "outputs": []
    },
    {
      "metadata": {
        "trusted": true
      },
      "cell_type": "code",
      "source": "",
      "execution_count": null,
      "outputs": []
    },
    {
      "metadata": {
        "trusted": true
      },
      "cell_type": "code",
      "source": "fetch_handle = Entrez.efetch(\n    db='nucleotide',\n    id=id_list_str,\n    retmode='xml'\n)",
      "execution_count": null,
      "outputs": []
    },
    {
      "metadata": {
        "trusted": true
      },
      "cell_type": "code",
      "source": "fetch_results = Entrez.read(fetch_handle)",
      "execution_count": null,
      "outputs": []
    },
    {
      "metadata": {
        "trusted": true
      },
      "cell_type": "code",
      "source": "len(fetch_results)",
      "execution_count": null,
      "outputs": []
    },
    {
      "metadata": {
        "trusted": true
      },
      "cell_type": "code",
      "source": "\nall_records = []\nfor entry in fetch_results:\n    \n    try:\n        gb_record = {\n            \"accession_id\": entry['GBSeq_accession-version'],\n            \"taxonomy\": {\n                \"taxon_name\": entry['GBSeq_organism']\n            },\n            \"features\": [],\n            \"sequence\": entry['GBSeq_sequence']\n        }\n\n        features = entry['GBSeq_feature-table']\n\n        for feature in features:\n            if feature['GBFeature_key'] != \"source\":\n                feat_entry = {\n                    \"feature_key\": feature['GBFeature_key'],\n                    \"location\": feature['GBFeature_location'],\n                    \"qualifier_name\": feature['GBFeature_quals'][0]['GBQualifier_name'],\n                    \"qualifier_value\": feature['GBFeature_quals'][0]['GBQualifier_value']\n                }\n                gb_record['features'].append(feat_entry)\n        all_records.append(gb_record)\n    \n    except KeyError:\n        print(entry['GBSeq_accession-version'])\n",
      "execution_count": null,
      "outputs": []
    },
    {
      "metadata": {
        "trusted": true
      },
      "cell_type": "code",
      "source": "len(all_records)",
      "execution_count": null,
      "outputs": []
    },
    {
      "metadata": {
        "trusted": true
      },
      "cell_type": "code",
      "source": "all_records[0:8]",
      "execution_count": null,
      "outputs": []
    },
    {
      "metadata": {
        "trusted": true
      },
      "cell_type": "code",
      "source": "# How many empty features\ncount = 0\nfor record in all_records:\n    if record['features']:\n        count+= 1\n    ",
      "execution_count": null,
      "outputs": []
    },
    {
      "metadata": {
        "trusted": true
      },
      "cell_type": "code",
      "source": "count",
      "execution_count": null,
      "outputs": []
    },
    {
      "metadata": {
        "trusted": true
      },
      "cell_type": "code",
      "source": "",
      "execution_count": null,
      "outputs": []
    },
    {
      "metadata": {
        "trusted": true
      },
      "cell_type": "code",
      "source": "unnatural = []",
      "execution_count": null,
      "outputs": []
    },
    {
      "metadata": {
        "trusted": true
      },
      "cell_type": "code",
      "source": "for record in all_records:\n    if record['features']:\n        new = {\n            \"taxon_name\": record['taxonomy']['taxon_name'],\n            \"marker\": \"\"\n        }\n        for feature in record['features']:\n            new['marker'] = feature['qualifier_value']\n            unnatural.append(new)",
      "execution_count": null,
      "outputs": []
    },
    {
      "metadata": {
        "trusted": true
      },
      "cell_type": "code",
      "source": "len(unnatural)",
      "execution_count": null,
      "outputs": []
    },
    {
      "metadata": {
        "trusted": true
      },
      "cell_type": "code",
      "source": "unnatural[0:2]",
      "execution_count": null,
      "outputs": []
    },
    {
      "metadata": {
        "trusted": true
      },
      "cell_type": "code",
      "source": "import pandas as pd",
      "execution_count": null,
      "outputs": []
    },
    {
      "metadata": {
        "trusted": true
      },
      "cell_type": "code",
      "source": "df = pd.DataFrame.from_records(unnatural)",
      "execution_count": null,
      "outputs": []
    },
    {
      "metadata": {
        "trusted": true
      },
      "cell_type": "code",
      "source": "df.head()",
      "execution_count": null,
      "outputs": []
    },
    {
      "metadata": {
        "trusted": true
      },
      "cell_type": "code",
      "source": "accum_markers = df.groupby('taxon_name').agg(lambda col: list(set(col))).reset_index()",
      "execution_count": null,
      "outputs": []
    },
    {
      "metadata": {
        "trusted": true
      },
      "cell_type": "code",
      "source": "accum_markers['count'] = accum_markers.apply(lambda x: len(x['marker']), axis=1)",
      "execution_count": null,
      "outputs": []
    },
    {
      "metadata": {
        "trusted": true
      },
      "cell_type": "code",
      "source": "accum_markers",
      "execution_count": null,
      "outputs": []
    },
    {
      "metadata": {
        "trusted": true
      },
      "cell_type": "code",
      "source": "import json",
      "execution_count": null,
      "outputs": []
    },
    {
      "metadata": {
        "trusted": true
      },
      "cell_type": "code",
      "source": "# Write basic json\nwith open('gb_results.json', 'w') as out:\n    json.dump(all_records, out)",
      "execution_count": null,
      "outputs": []
    },
    {
      "metadata": {
        "trusted": true
      },
      "cell_type": "code",
      "source": "# Write prettier json\nwith open('gb_results.json', 'w') as out:\n    json.dump(all_records, out, indent= 4, sort_keys=True)",
      "execution_count": null,
      "outputs": []
    },
    {
      "metadata": {
        "trusted": true
      },
      "cell_type": "code",
      "source": "",
      "execution_count": null,
      "outputs": []
    },
    {
      "metadata": {
        "trusted": true
      },
      "cell_type": "code",
      "source": "",
      "execution_count": null,
      "outputs": []
    }
  ],
  "metadata": {
    "kernelspec": {
      "name": "python36",
      "display_name": "Python 3.6",
      "language": "python"
    },
    "language_info": {
      "mimetype": "text/x-python",
      "nbconvert_exporter": "python",
      "name": "python",
      "pygments_lexer": "ipython3",
      "version": "3.6.6",
      "file_extension": ".py",
      "codemirror_mode": {
        "version": 3,
        "name": "ipython"
      }
    }
  },
  "nbformat": 4,
  "nbformat_minor": 2
}