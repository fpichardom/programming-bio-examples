{
  "cells": [
    {
      "metadata": {
        "collapsed": true
      },
      "cell_type": "markdown",
      "source": "# Dictionaries"
    },
    {
      "metadata": {},
      "cell_type": "markdown",
      "source": "Dictionaries are an essential data structure for data storage in python and a great format for communicating with the outside world:\n\n+ configuration files\n+ structured data files\n+ JSON from web services."
    },
    {
      "metadata": {},
      "cell_type": "markdown",
      "source": "## Dictionaries as flexible data storage"
    },
    {
      "metadata": {},
      "cell_type": "markdown",
      "source": "Let's first think in which ways we can normally get structured data from the outside world."
    },
    {
      "metadata": {},
      "cell_type": "markdown",
      "source": "### CSV document"
    },
    {
      "metadata": {},
      "cell_type": "markdown",
      "source": "```{}\ncountry,state,locality,collectors, scientific_name\nRepública Dominicana,Santiago,\"Loma La Pelona, Coordillera Central\",\"Juan Pérez, Pancho Luis Díaz Ramírez\",Pinus occidentalis\n```"
    },
    {
      "metadata": {},
      "cell_type": "markdown",
      "source": "### Basic JSON"
    },
    {
      "metadata": {},
      "cell_type": "markdown",
      "source": "```{json}\n{\n    \"country\": \"República Dominicana\",\n    \"state\": \"Santiago\",\n    \"locality\": \"Loma La Pelona, Coordillera Central\",\n    \"collectors\":\"Juan Pérez, Pancho Luis Díaz Ramírez\",\n    \"scientific_name\": \"Pinus occidentalis\"\n }\n```"
    },
    {
      "metadata": {},
      "cell_type": "markdown",
      "source": "### Better JSON"
    },
    {
      "metadata": {},
      "cell_type": "markdown",
      "source": "```{json}\n{\n    \"country\": \"República Dominicana\",\n    \"state\": \"Santiago\",\n    \"locality\": \"Loma La Pelona, Coordillera Central\",\n    \"collectors\": [\"Juan Pérez\", \"Pancho Díaz\"],\n    \"scientific_name\": \"Pinus occidentalis\"\n}\n```"
    },
    {
      "metadata": {},
      "cell_type": "markdown",
      "source": "### Maybe best JSON"
    },
    {
      "metadata": {},
      "cell_type": "markdown",
      "source": "```    \n{\n    \"country\": \"República Dominicana\",\n    \"state\": \"Santiago\",\n    \"locality\": \"Loma La Pelona, Coordillera Central\",\n    \"collectors\": [\n        {\n            \"first_name\": \"Juan\",\n            \"last_name\": \"Pérez\"\n        },\n        {\n            \"first_name\": \"Pancho\",\n            \"last_name\": \"Díaz Ramírez\",\n            \"middle_name\": 'Luis'\n        }\n    ],\n    \"taxonomy\": {\n        \"genus\":\"Pinus\",\n        \"specific_epithet\": \"occidentalis\"\n    }\n}\n```"
    },
    {
      "metadata": {
        "trusted": true
      },
      "cell_type": "code",
      "source": "record = {\n    \"country\": \"República Dominicana\",\n    \"state\": \"Santiago\",\n    \"locality\": \"Loma La Pelona, Coordillera Central\",\n    \"collectors\": [\n        {\n            \"first_name\": \"Juan\",\n            \"last_name\": \"Pérez\"\n        },\n        {\n            \"first_name\": \"Pancho\",\n            \"last_name\": \"Díaz Ramírez\",\n            \"middle_name\": 'Luis'\n        }\n    ],\n    \"taxonomy\": {\n        \"genus\":\"Pinus\",\n        \"specific_epithet\": \"occidentalis\"\n    }\n}",
      "execution_count": null,
      "outputs": []
    },
    {
      "metadata": {},
      "cell_type": "markdown",
      "source": "### Live examples: Working with dictionaries"
    },
    {
      "metadata": {},
      "cell_type": "markdown",
      "source": "#### Create dictionary from scrach"
    },
    {
      "metadata": {
        "trusted": true
      },
      "cell_type": "code",
      "source": "",
      "execution_count": null,
      "outputs": []
    },
    {
      "metadata": {},
      "cell_type": "markdown",
      "source": "#### Key value pair query syntax"
    },
    {
      "metadata": {
        "trusted": true
      },
      "cell_type": "code",
      "source": "",
      "execution_count": null,
      "outputs": []
    },
    {
      "metadata": {},
      "cell_type": "markdown",
      "source": "#### Dictionary methods"
    },
    {
      "metadata": {
        "trusted": true
      },
      "cell_type": "code",
      "source": "",
      "execution_count": null,
      "outputs": []
    },
    {
      "metadata": {
        "trusted": true
      },
      "cell_type": "markdown",
      "source": "## API example"
    },
    {
      "metadata": {
        "trusted": true
      },
      "cell_type": "code",
      "source": "import requests\nimport json\nimport html\nimport seaborn as sns\nimport matplotlib.pyplot as plt",
      "execution_count": null,
      "outputs": []
    },
    {
      "metadata": {
        "trusted": true
      },
      "cell_type": "code",
      "source": "%matplotlib inline",
      "execution_count": null,
      "outputs": []
    },
    {
      "metadata": {
        "trusted": true
      },
      "cell_type": "markdown",
      "source": "## idigbio api"
    },
    {
      "metadata": {
        "trusted": true
      },
      "cell_type": "code",
      "source": "def search_idigbio(params):\n    idigbio_base_url = \"https://search.idigbio.org/v2/search/records\"\n    payload = {\n        \"rq\": json.dumps(params)\n    }\n    response = requests.get(idigbio_base_url, params=payload)\n    return response",
      "execution_count": null,
      "outputs": []
    },
    {
      "metadata": {
        "trusted": true
      },
      "cell_type": "code",
      "source": "response = search_idigbio({\"genus\": \"Asclepias\", \"country\":\"United States\"})",
      "execution_count": null,
      "outputs": []
    },
    {
      "metadata": {
        "trusted": true,
        "scrolled": true
      },
      "cell_type": "code",
      "source": "len(response.json()['items'])",
      "execution_count": null,
      "outputs": []
    },
    {
      "metadata": {
        "trusted": true
      },
      "cell_type": "code",
      "source": "response.url",
      "execution_count": null,
      "outputs": []
    },
    {
      "metadata": {
        "trusted": true
      },
      "cell_type": "code",
      "source": "",
      "execution_count": null,
      "outputs": []
    },
    {
      "metadata": {
        "trusted": true
      },
      "cell_type": "code",
      "source": "records = response.json()",
      "execution_count": null,
      "outputs": []
    },
    {
      "metadata": {
        "trusted": true
      },
      "cell_type": "code",
      "source": "records['items'][0].keys()",
      "execution_count": null,
      "outputs": []
    },
    {
      "metadata": {
        "trusted": true
      },
      "cell_type": "code",
      "source": "records['items'][0]['data'].keys()",
      "execution_count": null,
      "outputs": []
    },
    {
      "metadata": {},
      "cell_type": "markdown",
      "source": "##### Dictionary loop key value pairs"
    },
    {
      "metadata": {
        "trusted": true
      },
      "cell_type": "code",
      "source": "for key, value in records['items'][0]['data'].items():\n    print(key)\n    print(value)\n    print(\"+=================================+\")",
      "execution_count": null,
      "outputs": []
    },
    {
      "metadata": {
        "trusted": true,
        "scrolled": true
      },
      "cell_type": "code",
      "source": "for key, value in records['items'][0]['data'].items():\n    print(key, type(value))",
      "execution_count": null,
      "outputs": []
    },
    {
      "metadata": {},
      "cell_type": "markdown",
      "source": "Retrieve only numeric fields"
    },
    {
      "metadata": {
        "trusted": true
      },
      "cell_type": "code",
      "source": "def is_float(value):\n    try:\n        res = float(value)\n        return res        \n    except ValueError:\n        return False        ",
      "execution_count": null,
      "outputs": []
    },
    {
      "metadata": {
        "trusted": true
      },
      "cell_type": "code",
      "source": "numeric_fields = []\nfor key, value in records['items'][0]['data'].items():\n    if is_float(value):\n        numeric_fields.append(key)",
      "execution_count": null,
      "outputs": []
    },
    {
      "metadata": {
        "trusted": true,
        "scrolled": true
      },
      "cell_type": "code",
      "source": "numeric_fields",
      "execution_count": null,
      "outputs": []
    },
    {
      "metadata": {
        "trusted": true
      },
      "cell_type": "code",
      "source": "",
      "execution_count": null,
      "outputs": []
    },
    {
      "metadata": {
        "trusted": true
      },
      "cell_type": "code",
      "source": "numeric_records = []\nfor record in records['items']:\n    new_record = {\n        \"uuid\": record['uuid']\n    }\n    for field in numeric_fields:\n        new_record[field] = record['data'][field]\n    numeric_records.append(new_record)",
      "execution_count": null,
      "outputs": []
    },
    {
      "metadata": {
        "trusted": true
      },
      "cell_type": "code",
      "source": "",
      "execution_count": null,
      "outputs": []
    },
    {
      "metadata": {
        "trusted": true
      },
      "cell_type": "code",
      "source": "numeric_records = []\nfor record in records['items']:\n    new_record = {\n        \"uuid\": record['uuid']\n    }\n    for field in numeric_fields:\n        new_record[field] = record['data'].get(field, None)\n    numeric_records.append(new_record)",
      "execution_count": null,
      "outputs": []
    },
    {
      "metadata": {
        "trusted": true
      },
      "cell_type": "code",
      "source": "",
      "execution_count": null,
      "outputs": []
    },
    {
      "metadata": {
        "trusted": true
      },
      "cell_type": "code",
      "source": "numeric_records[0:2]",
      "execution_count": null,
      "outputs": []
    },
    {
      "metadata": {
        "trusted": true
      },
      "cell_type": "code",
      "source": "years = [int(record['dwc:year']) for record in numeric_records if record.get('dwc:year', 0)]",
      "execution_count": null,
      "outputs": []
    },
    {
      "metadata": {
        "trusted": true
      },
      "cell_type": "code",
      "source": "f, ax = plt.subplots(figsize=(10, 8))\nsns.distplot(years, rug=True, kde=False, bins=20);\nplt.show;",
      "execution_count": null,
      "outputs": []
    },
    {
      "metadata": {
        "trusted": true
      },
      "cell_type": "code",
      "source": "latitudes = [float(record['dwc:decimalLatitude']) for record in numeric_records if record.get('dwc:decimalLatitude', 0)]",
      "execution_count": null,
      "outputs": []
    },
    {
      "metadata": {
        "trusted": true
      },
      "cell_type": "code",
      "source": "f, ax = plt.subplots(figsize=(10, 8))\nsns.distplot(latitudes, rug=True, kde=False, bins=20);\nplt.show;",
      "execution_count": null,
      "outputs": []
    },
    {
      "metadata": {},
      "cell_type": "markdown",
      "source": "Species summary"
    },
    {
      "metadata": {
        "trusted": true
      },
      "cell_type": "code",
      "source": "species_summary = dict()\n\nfor record in res['items']:\n    \n    taxon = record['data']['dwc:scientificName']\n    state = record['data'].get('dwc:stateProvince', 'Unknown')\n    \n    if species_summary.get(taxon,0):\n        \n        #species_summary[taxon]['states'] = species_summary[taxon]['states'].add(state) \n        species_summary[taxon]['states'].add(state) \n        species_summary[taxon]['count'] += 1\n    else:\n        species_summary[taxon] = {\n            'states': {state,},\n            'count': 1\n        }",
      "execution_count": null,
      "outputs": []
    },
    {
      "metadata": {
        "trusted": true
      },
      "cell_type": "code",
      "source": "species_summary",
      "execution_count": null,
      "outputs": []
    },
    {
      "metadata": {
        "trusted": true
      },
      "cell_type": "code",
      "source": "species_summary.keys()",
      "execution_count": null,
      "outputs": []
    },
    {
      "metadata": {
        "trusted": true
      },
      "cell_type": "code",
      "source": "len(species_summary.keys())",
      "execution_count": null,
      "outputs": []
    },
    {
      "metadata": {
        "trusted": true
      },
      "cell_type": "code",
      "source": "",
      "execution_count": null,
      "outputs": []
    },
    {
      "metadata": {},
      "cell_type": "markdown",
      "source": "### Sequence reverse complement"
    },
    {
      "metadata": {
        "trusted": true
      },
      "cell_type": "code",
      "source": "complement = {'A': 'T', 'C': 'G', 'G': 'C', 'T': 'A'}\n",
      "execution_count": null,
      "outputs": []
    },
    {
      "metadata": {
        "trusted": true
      },
      "cell_type": "code",
      "source": "seq = \"TCGGGCCCAAATCTCCGGAG\"\n",
      "execution_count": null,
      "outputs": []
    },
    {
      "metadata": {
        "trusted": true
      },
      "cell_type": "code",
      "source": "reverse_complement = \"\".join(complement.get(base, base) for base in reversed(seq))",
      "execution_count": null,
      "outputs": []
    },
    {
      "metadata": {
        "trusted": true
      },
      "cell_type": "code",
      "source": "reverse_complement",
      "execution_count": null,
      "outputs": []
    },
    {
      "metadata": {
        "trusted": true
      },
      "cell_type": "code",
      "source": "",
      "execution_count": null,
      "outputs": []
    },
    {
      "metadata": {
        "trusted": true
      },
      "cell_type": "code",
      "source": "",
      "execution_count": null,
      "outputs": []
    }
  ],
  "metadata": {
    "kernelspec": {
      "name": "python36",
      "display_name": "Python 3.6",
      "language": "python"
    },
    "language_info": {
      "mimetype": "text/x-python",
      "nbconvert_exporter": "python",
      "name": "python",
      "pygments_lexer": "ipython3",
      "version": "3.6.6",
      "file_extension": ".py",
      "codemirror_mode": {
        "version": 3,
        "name": "ipython"
      }
    }
  },
  "nbformat": 4,
  "nbformat_minor": 2
}