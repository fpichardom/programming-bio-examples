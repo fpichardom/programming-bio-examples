{
  "cells": [
    {
      "metadata": {
        "collapsed": true
      },
      "cell_type": "markdown",
      "source": "# Dictionaries"
    },
    {
      "metadata": {},
      "cell_type": "markdown",
      "source": "Dictionaries are an essential data structure for data storage in python and a great format for communicating with the outside world:\n\n+ configuration files\n+ structured data files\n+ JSON from web services."
    },
    {
      "metadata": {},
      "cell_type": "markdown",
      "source": "## Dictionaries as flexible data storage"
    },
    {
      "metadata": {},
      "cell_type": "markdown",
      "source": "Let's first think in which ways we can normally get structured data from the outside world."
    },
    {
      "metadata": {},
      "cell_type": "markdown",
      "source": "### CSV document"
    },
    {
      "metadata": {},
      "cell_type": "markdown",
      "source": "```{}\ncountry,state,locality,collectors, scientific_name\nRepública Dominicana,Santiago,\"Loma La Pelona, Coordillera Central\",\"Juan Pérez, Pancho Luis Díaz Ramírez\",Pinus occidentalis\n```"
    },
    {
      "metadata": {},
      "cell_type": "markdown",
      "source": "### Basic JSON"
    },
    {
      "metadata": {},
      "cell_type": "markdown",
      "source": "```{json}\n{\n    \"country\": \"República Dominicana\",\n    \"state\": \"Santiago\",\n    \"locality\": \"Loma La Pelona, Coordillera Central\",\n    \"collectors\":\"Juan Pérez, Pancho Luis Díaz Ramírez\",\n    \"scientific_name\": \"Pinus occidentalis\"\n }\n```"
    },
    {
      "metadata": {},
      "cell_type": "markdown",
      "source": "### Better JSON"
    },
    {
      "metadata": {},
      "cell_type": "markdown",
      "source": "```{json}\n{\n    \"country\": \"República Dominicana\",\n    \"state\": \"Santiago\",\n    \"locality\": \"Loma La Pelona, Coordillera Central\",\n    \"collectors\": [\"Juan Pérez\", \"Pancho Díaz\"],\n    \"scientific_name\": \"Pinus occidentalis\"\n}\n```"
    },
    {
      "metadata": {},
      "cell_type": "markdown",
      "source": "### Maybe best JSON"
    },
    {
      "metadata": {},
      "cell_type": "markdown",
      "source": "```    \n{\n    \"country\": \"República Dominicana\",\n    \"state\": \"Santiago\",\n    \"locality\": \"Loma La Pelona, Coordillera Central\",\n    \"collectors\": [\n        {\n            \"first_name\": \"Juan\",\n            \"last_name\": \"Pérez\"\n        },\n        {\n            \"first_name\": \"Pancho\",\n            \"last_name\": \"Díaz Ramírez\",\n            \"middle_name\": 'Luis'\n        }\n    ],\n    \"taxonomy\": {\n        \"genus\":\"Pinus\",\n        \"specific_epithet\": \"occidentalis\"\n    }\n}\n```"
    },
    {
      "metadata": {
        "trusted": true
      },
      "cell_type": "code",
      "source": "record = {\n    \"country\": \"República Dominicana\",\n    \"state\": \"Santiago\",\n    \"locality\": \"Loma La Pelona, Coordillera Central\",\n    \"collectors\": [\n        {\n            \"first_name\": \"Juan\",\n            \"last_name\": \"Pérez\"\n        },\n        {\n            \"first_name\": \"Pancho\",\n            \"last_name\": \"Díaz Ramírez\",\n            \"middle_name\": 'Luis'\n        }\n    ],\n    \"taxonomy\": {\n        \"genus\":\"Pinus\",\n        \"specific_epithet\": \"occidentalis\"\n    }\n}",
      "execution_count": null,
      "outputs": []
    },
    {
      "metadata": {
        "trusted": true
      },
      "cell_type": "code",
      "source": "record[\"locality\"]",
      "execution_count": null,
      "outputs": []
    },
    {
      "metadata": {
        "trusted": true
      },
      "cell_type": "code",
      "source": "type(record['country'])",
      "execution_count": null,
      "outputs": []
    },
    {
      "metadata": {
        "trusted": true
      },
      "cell_type": "code",
      "source": "type(record['collectors'])",
      "execution_count": null,
      "outputs": []
    },
    {
      "metadata": {
        "trusted": true
      },
      "cell_type": "code",
      "source": "record['collectors'][0]['last_name']",
      "execution_count": null,
      "outputs": []
    },
    {
      "metadata": {},
      "cell_type": "markdown",
      "source": "### Live examples: Working with dictionaries"
    },
    {
      "metadata": {},
      "cell_type": "markdown",
      "source": "#### Create dictionary from scrach"
    },
    {
      "metadata": {
        "trusted": true
      },
      "cell_type": "code",
      "source": "a = {}",
      "execution_count": null,
      "outputs": []
    },
    {
      "metadata": {},
      "cell_type": "markdown",
      "source": "#### Key value pair query syntax"
    },
    {
      "metadata": {
        "trusted": true
      },
      "cell_type": "code",
      "source": "a['fruits'] = ['apple', 'pinaple', 'banana', 'orange']",
      "execution_count": null,
      "outputs": []
    },
    {
      "metadata": {},
      "cell_type": "markdown",
      "source": "#### Dictionary methods"
    },
    {
      "metadata": {
        "trusted": true
      },
      "cell_type": "code",
      "source": "dir(a)",
      "execution_count": null,
      "outputs": []
    },
    {
      "metadata": {
        "trusted": true
      },
      "cell_type": "code",
      "source": "record.keys()",
      "execution_count": null,
      "outputs": []
    },
    {
      "metadata": {
        "trusted": true
      },
      "cell_type": "code",
      "source": "record['collectors'][0].get('middle_name','No data')",
      "execution_count": null,
      "outputs": []
    },
    {
      "metadata": {
        "trusted": true
      },
      "cell_type": "markdown",
      "source": "## API example"
    },
    {
      "metadata": {
        "trusted": true
      },
      "cell_type": "code",
      "source": "import requests\nimport json\nimport html\nimport seaborn as sns\nimport matplotlib.pyplot as plt",
      "execution_count": null,
      "outputs": []
    },
    {
      "metadata": {
        "trusted": true
      },
      "cell_type": "code",
      "source": "%matplotlib inline",
      "execution_count": null,
      "outputs": []
    },
    {
      "metadata": {
        "trusted": true
      },
      "cell_type": "markdown",
      "source": "## idigbio api"
    },
    {
      "metadata": {
        "trusted": true
      },
      "cell_type": "code",
      "source": "def search_idigbio(params):\n    idigbio_base_url = \"https://search.idigbio.org/v2/search/records\"\n    payload = {\n        \"rq\": json.dumps(params)\n    }\n    response = requests.get(idigbio_base_url, params=payload)\n    return response",
      "execution_count": null,
      "outputs": []
    },
    {
      "metadata": {
        "trusted": true
      },
      "cell_type": "code",
      "source": "response = search_idigbio({\"genus\": \"Asclepias\", \"country\":\"United States\"})",
      "execution_count": null,
      "outputs": []
    },
    {
      "metadata": {
        "trusted": true,
        "scrolled": true
      },
      "cell_type": "code",
      "source": "len(response.json()['items'])",
      "execution_count": null,
      "outputs": []
    },
    {
      "metadata": {
        "trusted": true
      },
      "cell_type": "code",
      "source": "response.url",
      "execution_count": null,
      "outputs": []
    },
    {
      "metadata": {
        "trusted": true
      },
      "cell_type": "code",
      "source": "records = response.json()",
      "execution_count": null,
      "outputs": []
    },
    {
      "metadata": {
        "trusted": true
      },
      "cell_type": "code",
      "source": "records.keys()",
      "execution_count": null,
      "outputs": []
    },
    {
      "metadata": {
        "trusted": true
      },
      "cell_type": "code",
      "source": "records['items'][0]['data'].keys()",
      "execution_count": null,
      "outputs": []
    },
    {
      "metadata": {
        "trusted": true
      },
      "cell_type": "code",
      "source": "records['items'][0].keys()",
      "execution_count": null,
      "outputs": []
    },
    {
      "metadata": {
        "trusted": true
      },
      "cell_type": "code",
      "source": "records['items'][0]['data'].keys()",
      "execution_count": null,
      "outputs": []
    },
    {
      "metadata": {},
      "cell_type": "markdown",
      "source": "##### Dictionary loop key value pairs"
    },
    {
      "metadata": {
        "trusted": true
      },
      "cell_type": "code",
      "source": "for key, value in records['items'][0]['data'].items():\n    print(key)\n    print(value)\n    print(\"+=================================+\")",
      "execution_count": null,
      "outputs": []
    },
    {
      "metadata": {
        "trusted": true
      },
      "cell_type": "code",
      "source": "for key, value in records['items'][0]['data'].items():\n    print(key, type(value))",
      "execution_count": null,
      "outputs": []
    },
    {
      "metadata": {},
      "cell_type": "markdown",
      "source": "Retrieve only numeric fields"
    },
    {
      "metadata": {
        "trusted": true
      },
      "cell_type": "code",
      "source": "def is_float(value):\n    try:\n        res = float(value)\n        return res        \n    except ValueError:\n        return False        ",
      "execution_count": null,
      "outputs": []
    },
    {
      "metadata": {
        "trusted": true
      },
      "cell_type": "code",
      "source": "numeric_fields = []\nfor key, value in records['items'][0]['data'].items():\n    if is_float(value):\n        numeric_fields.append(key)",
      "execution_count": null,
      "outputs": []
    },
    {
      "metadata": {
        "trusted": true,
        "scrolled": true
      },
      "cell_type": "code",
      "source": "numeric_fields",
      "execution_count": null,
      "outputs": []
    },
    {
      "metadata": {
        "trusted": true
      },
      "cell_type": "code",
      "source": "",
      "execution_count": null,
      "outputs": []
    },
    {
      "metadata": {
        "trusted": true
      },
      "cell_type": "code",
      "source": "# Returns error: example\nnumeric_records = []\nfor record in records['items']:\n    new_record = {\n        \"uuid\": record['uuid']\n    }\n    for field in numeric_fields:\n        new_record[field] = record['data'][field]\n    numeric_records.append(new_record)",
      "execution_count": null,
      "outputs": []
    },
    {
      "metadata": {
        "trusted": true
      },
      "cell_type": "code",
      "source": "# Better code example using the get() method\nnumeric_records = []\nfor record in records['items']:\n    new_record = {\n        \"uuid\": record['uuid']\n    }\n    for field in numeric_fields:\n        new_record[field] = record['data'].get(field, None)\n    numeric_records.append(new_record)",
      "execution_count": null,
      "outputs": []
    },
    {
      "metadata": {
        "trusted": true
      },
      "cell_type": "code",
      "source": "numeric_records[0:2]",
      "execution_count": null,
      "outputs": []
    },
    {
      "metadata": {
        "trusted": true
      },
      "cell_type": "code",
      "source": "years = [int(record['dwc:year']) for record in numeric_records if record.get('dwc:year', 0)]",
      "execution_count": null,
      "outputs": []
    },
    {
      "metadata": {
        "trusted": true
      },
      "cell_type": "code",
      "source": "f, ax = plt.subplots(figsize=(10, 8))\nsns.distplot(years, rug=True, kde=False, bins=20);\nplt.show;",
      "execution_count": null,
      "outputs": []
    },
    {
      "metadata": {
        "trusted": true
      },
      "cell_type": "code",
      "source": "latitudes = [float(record['dwc:decimalLatitude']) for record in numeric_records if record.get('dwc:decimalLatitude', 0)]",
      "execution_count": null,
      "outputs": []
    },
    {
      "metadata": {
        "trusted": true
      },
      "cell_type": "code",
      "source": "f, ax = plt.subplots(figsize=(10, 8))\nsns.distplot(latitudes, rug=True, kde=False, bins=20);\nplt.show;",
      "execution_count": null,
      "outputs": []
    },
    {
      "metadata": {},
      "cell_type": "markdown",
      "source": "Species summary"
    },
    {
      "metadata": {
        "trusted": true
      },
      "cell_type": "code",
      "source": "species_summary = dict()\n\nfor record in res['items']:\n    \n    taxon = record['data']['dwc:scientificName']\n    state = record['data'].get('dwc:stateProvince', 'Unknown')\n    \n    if species_summary.get(taxon,0):\n        \n        #species_summary[taxon]['states'] = species_summary[taxon]['states'].add(state) \n        species_summary[taxon]['states'].add(state) \n        species_summary[taxon]['count'] += 1\n    else:\n        species_summary[taxon] = {\n            'states': {state,},\n            'count': 1\n        }",
      "execution_count": null,
      "outputs": []
    },
    {
      "metadata": {
        "trusted": true
      },
      "cell_type": "code",
      "source": "species_summary",
      "execution_count": null,
      "outputs": []
    },
    {
      "metadata": {
        "trusted": true
      },
      "cell_type": "code",
      "source": "species_summary.keys()",
      "execution_count": null,
      "outputs": []
    },
    {
      "metadata": {
        "trusted": true
      },
      "cell_type": "code",
      "source": "len(species_summary.keys())",
      "execution_count": null,
      "outputs": []
    },
    {
      "metadata": {
        "trusted": true
      },
      "cell_type": "code",
      "source": "",
      "execution_count": null,
      "outputs": []
    },
    {
      "metadata": {},
      "cell_type": "markdown",
      "source": "## Dictionaries as indexes: examples"
    },
    {
      "metadata": {},
      "cell_type": "markdown",
      "source": "### Sequence reverse complement"
    },
    {
      "metadata": {
        "trusted": true
      },
      "cell_type": "code",
      "source": "seq = \"TCGGGCCCAAATCTCCGGAG\"",
      "execution_count": null,
      "outputs": []
    },
    {
      "metadata": {
        "trusted": true
      },
      "cell_type": "code",
      "source": "complement = {\n    'A': 'T',\n    'C': 'G',\n    'G': 'C',\n    'T': 'A'\n}",
      "execution_count": null,
      "outputs": []
    },
    {
      "metadata": {
        "trusted": true
      },
      "cell_type": "code",
      "source": "# Short version\nreverse_complement = \"\".join(complement.get(base, 'N') for base in reversed(seq))",
      "execution_count": null,
      "outputs": []
    },
    {
      "metadata": {
        "trusted": true
      },
      "cell_type": "code",
      "source": "# Long version\nrc_raw = []\nfor base in reversed(seq):\n    rc_raw.append(complement.get(base,'N'))\nreverse_complement = \"\".join(rc_raw)    ",
      "execution_count": null,
      "outputs": []
    },
    {
      "metadata": {
        "trusted": true
      },
      "cell_type": "markdown",
      "source": "### Compare sequences between two fasta files"
    },
    {
      "metadata": {
        "trusted": true
      },
      "cell_type": "code",
      "source": "# Parse fasta file so that headers are the keys and the sequences are the values\ndef parse_fasta(file):\n    with open(file) as f:\n        sequences = {}\n        for line in f:\n            if line.startswith('>'):\n                new_key = line.strip().replace('>','')\n            else:\n                sequences[new_key] = sequences.get(new_key, '') + line.strip()\n        return sequences",
      "execution_count": null,
      "outputs": []
    },
    {
      "metadata": {
        "trusted": true
      },
      "cell_type": "code",
      "source": "full_set = parse_fasta('cactacae_gene_features_25feb2020.fasta')\nunwanted = parse_fasta('unwanted.fasta')",
      "execution_count": null,
      "outputs": []
    },
    {
      "metadata": {
        "trusted": true
      },
      "cell_type": "code",
      "source": "keys_full_set = set(full_set.keys())\nkeys_unwanted = set(unwanted.keys())",
      "execution_count": null,
      "outputs": []
    },
    {
      "metadata": {
        "trusted": true
      },
      "cell_type": "code",
      "source": "# keys that are in the full set but not in the unwanted file\nto_keep = keys_full_set.difference(keys_unwanted)",
      "execution_count": null,
      "outputs": []
    },
    {
      "metadata": {
        "trusted": true
      },
      "cell_type": "code",
      "source": "len(to_keep)",
      "execution_count": null,
      "outputs": []
    },
    {
      "metadata": {
        "trusted": true
      },
      "cell_type": "code",
      "source": "with open('good_sequences.fasta', 'w') as out:\n    for seq_key in to_keep:\n        out.write(f'>{seq_key}\\n')\n        out.write(f'{full_set[seq_key]}\\n')\n    ",
      "execution_count": null,
      "outputs": []
    },
    {
      "metadata": {
        "trusted": true
      },
      "cell_type": "code",
      "source": "! grep \">\" good_sequences.fasta|wc -l",
      "execution_count": null,
      "outputs": []
    },
    {
      "metadata": {
        "trusted": true
      },
      "cell_type": "code",
      "source": "! head good_sequences.fasta",
      "execution_count": null,
      "outputs": []
    },
    {
      "metadata": {},
      "cell_type": "markdown",
      "source": "#### Create unwanted file for previous section"
    },
    {
      "metadata": {
        "trusted": true
      },
      "cell_type": "code",
      "source": "sequences = parse_fasta('cactacae_gene_features_25feb2020.fasta')",
      "execution_count": null,
      "outputs": []
    },
    {
      "metadata": {
        "trusted": true
      },
      "cell_type": "code",
      "source": "# Check number of sequences in file\nn_seqs = len(sequences.keys())\nprint(n_seqs)",
      "execution_count": null,
      "outputs": []
    },
    {
      "metadata": {
        "trusted": true
      },
      "cell_type": "code",
      "source": "# Count number of sequences using grep in the shell\n!grep '>' cactacae_gene_features_25feb2020.fasta| wc -l",
      "execution_count": null,
      "outputs": []
    },
    {
      "metadata": {
        "trusted": true
      },
      "cell_type": "code",
      "source": "import random\ntakeout = random.sample(sequences.keys(), k=int(n_seqs*0.2))",
      "execution_count": null,
      "outputs": []
    },
    {
      "metadata": {
        "trusted": true
      },
      "cell_type": "code",
      "source": "with open('unwanted.fasta', 'w') as out:\n    for seq_key in takeout:\n        out.write(f'>{seq_key}\\n')\n        out.write(f'{sequences[seq_key]}\\n')",
      "execution_count": null,
      "outputs": []
    },
    {
      "metadata": {
        "trusted": true
      },
      "cell_type": "code",
      "source": "!head unwanted.fasta",
      "execution_count": null,
      "outputs": []
    },
    {
      "metadata": {},
      "cell_type": "markdown",
      "source": "### Count dinucleotides in sequence"
    },
    {
      "metadata": {
        "trusted": true
      },
      "cell_type": "code",
      "source": "sources = ['https://pythonforbiologists.com/dictionaries']",
      "execution_count": null,
      "outputs": []
    },
    {
      "metadata": {
        "trusted": true
      },
      "cell_type": "code",
      "source": "good_seqs = parse_fasta('good_sequences.fasta')",
      "execution_count": null,
      "outputs": []
    },
    {
      "metadata": {
        "trusted": true
      },
      "cell_type": "code",
      "source": "dna = good_seqs['lcl|KY490880.1_gene_1 [gene=PhyC] [location=<1..968] [gbkey=Gene]']\n",
      "execution_count": null,
      "outputs": []
    },
    {
      "metadata": {
        "trusted": true
      },
      "cell_type": "code",
      "source": "def count_dinucleotides(dna):\n    all_counts = {} \n    bases = ['A','T','G','C'] \n    for base1 in bases: \n        for base2 in bases: \n            dinucleotide = base1 + base2 \n            count = dna.count(dinucleotide) \n            if count > 0: \n                all_counts[dinucleotide] = count\n    return all_counts",
      "execution_count": null,
      "outputs": []
    },
    {
      "metadata": {
        "trusted": true
      },
      "cell_type": "code",
      "source": "all_counts = count_dinucleotides(dna)\nprint(all_counts)",
      "execution_count": null,
      "outputs": []
    },
    {
      "metadata": {},
      "cell_type": "markdown",
      "source": "### DNA translation"
    },
    {
      "metadata": {
        "trusted": true
      },
      "cell_type": "code",
      "source": "sources = [\n    'https://pythonforbiologists.com/dictionaries',\n    'https://towardsdatascience.com/starting-off-in-bioinformatics-turning-dna-sequences-into-protein-sequences-c771dc20b89f'\n]\n",
      "execution_count": null,
      "outputs": []
    },
    {
      "metadata": {
        "trusted": true
      },
      "cell_type": "code",
      "source": "GENCODE = {\n    'ATA':'I', 'ATC':'I', 'ATT':'I', 'ATG':'M',\n    'ACA':'T', 'ACC':'T', 'ACG':'T', 'ACT':'T',\n    'AAC':'N', 'AAT':'N', 'AAA':'K', 'AAG':'K',\n    'AGC':'S', 'AGT':'S', 'AGA':'R', 'AGG':'R',\n    'CTA':'L', 'CTC':'L', 'CTG':'L', 'CTT':'L',\n    'CCA':'P', 'CCC':'P', 'CCG':'P', 'CCT':'P',\n    'CAC':'H', 'CAT':'H', 'CAA':'Q', 'CAG':'Q',\n    'CGA':'R', 'CGC':'R', 'CGG':'R', 'CGT':'R',\n    'GTA':'V', 'GTC':'V', 'GTG':'V', 'GTT':'V',\n    'GCA':'A', 'GCC':'A', 'GCG':'A', 'GCT':'A',\n    'GAC':'D', 'GAT':'D', 'GAA':'E', 'GAG':'E',\n    'GGA':'G', 'GGC':'G', 'GGG':'G', 'GGT':'G',\n    'TCA':'S', 'TCC':'S', 'TCG':'S', 'TCT':'S',\n    'TTC':'F', 'TTT':'F', 'TTA':'L', 'TTG':'L',\n    'TAC':'Y', 'TAT':'Y', 'TAA':'_', 'TAG':'_',\n    'TGC':'C', 'TGT':'C', 'TGA':'_', 'TGG':'W'}",
      "execution_count": null,
      "outputs": []
    },
    {
      "metadata": {
        "trusted": true
      },
      "cell_type": "code",
      "source": "def translate_dna(dna, frame):\n    last_codon_start = len(dna) - 2\n    protein = \"\"\n    for start in range(frame,last_codon_start,3):\n        codon = dna[start:start+3]\n        aa = GENCODE.get(codon.upper(), 'X')\n        protein = protein + aa\n    return protein ",
      "execution_count": null,
      "outputs": []
    },
    {
      "metadata": {
        "trusted": true
      },
      "cell_type": "code",
      "source": "dna = good_seqs['lcl|KY490880.1_gene_1 [gene=PhyC] [location=<1..968] [gbkey=Gene]']",
      "execution_count": null,
      "outputs": []
    },
    {
      "metadata": {
        "trusted": true
      },
      "cell_type": "code",
      "source": "translate_dna(dna,2)",
      "execution_count": null,
      "outputs": []
    },
    {
      "metadata": {
        "trusted": true
      },
      "cell_type": "code",
      "source": "a = \"CCTAAGTTT\"\nlast = len(a) - 2\nprint(last)\nfor start in range(0, last, 3):\n    print(start, start+3)",
      "execution_count": null,
      "outputs": []
    },
    {
      "metadata": {},
      "cell_type": "markdown",
      "source": "### Configure sequences as db"
    },
    {
      "metadata": {
        "trusted": true
      },
      "cell_type": "code",
      "source": "seq_db = []\nfor seq_key, seq in good_seqs.items():\n    record = {\n        \"seq_id\": seq_key,\n        \"seq\": seq,\n        \"dinucleotide_freq\": count_dinucleotides(seq)\n    }\n    for frame in range(3):\n        record[f'translation_frame{frame}'] = translate_dna(seq,frame)\n    seq_db.append(record)",
      "execution_count": null,
      "outputs": []
    },
    {
      "metadata": {
        "trusted": true
      },
      "cell_type": "code",
      "source": "seq_db[0]",
      "execution_count": null,
      "outputs": []
    },
    {
      "metadata": {},
      "cell_type": "markdown",
      "source": "# Extra: Group identical sequences: Not working, cannot handle large files"
    },
    {
      "metadata": {
        "trusted": true
      },
      "cell_type": "code",
      "source": "good_seqs = parse_fasta('good_sequences.fasta')",
      "execution_count": null,
      "outputs": []
    },
    {
      "metadata": {
        "trusted": true
      },
      "cell_type": "code",
      "source": "import itertools",
      "execution_count": null,
      "outputs": []
    },
    {
      "metadata": {
        "trusted": true
      },
      "cell_type": "code",
      "source": "key_pairs = itertools.combinations(good_seqs.keys(), r=2)",
      "execution_count": null,
      "outputs": []
    },
    {
      "metadata": {
        "trusted": true
      },
      "cell_type": "code",
      "source": "seq_db = []\nold_field = None\nonce_off = False\nfor key_pair in key_pairs:\n    if old_field != key_pair[0]:\n        if once_off:\n            seq_db.append(record)\n        once_off = True                \n        record = {\n            \"seq_id\": i[0],\n            \"seq\": good_seqs[i[0]],\n            \"identical_records\": []\n        }\n    if good_seqs[i[0]] == good_seqs[i[1]]:\n        record['identical_records'].append(i[1])\n    ",
      "execution_count": null,
      "outputs": []
    }
  ],
  "metadata": {
    "kernelspec": {
      "name": "python36",
      "display_name": "Python 3.6",
      "language": "python"
    },
    "language_info": {
      "mimetype": "text/x-python",
      "nbconvert_exporter": "python",
      "name": "python",
      "pygments_lexer": "ipython3",
      "version": "3.6.6",
      "file_extension": ".py",
      "codemirror_mode": {
        "version": 3,
        "name": "ipython"
      }
    }
  },
  "nbformat": 4,
  "nbformat_minor": 2
}